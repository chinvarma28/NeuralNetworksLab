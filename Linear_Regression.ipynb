{
  "cells": [
    {
      "cell_type": "markdown",
      "metadata": {
        "id": "view-in-github",
        "colab_type": "text"
      },
      "source": [
        "<a href=\"https://colab.research.google.com/github/Mysterious-27/21AI72-NN-and-DL/blob/main/Linear_Regression.ipynb\" target=\"_parent\"><img src=\"https://colab.research.google.com/assets/colab-badge.svg\" alt=\"Open In Colab\"/></a>"
      ]
    },
    {
      "cell_type": "markdown",
      "id": "bed3e0d7",
      "metadata": {
        "id": "bed3e0d7"
      },
      "source": [
        "# Linear Regression"
      ]
    },
    {
      "cell_type": "markdown",
      "id": "65c15ecd",
      "metadata": {
        "id": "65c15ecd"
      },
      "source": [
        "## Importing Datasets"
      ]
    },
    {
      "cell_type": "code",
      "execution_count": null,
      "id": "ca45af49",
      "metadata": {
        "id": "ca45af49"
      },
      "outputs": [],
      "source": [
        "from sklearn.datasets import fetch_california_housing\n",
        "from sklearn.model_selection import train_test_split\n",
        "from sklearn.preprocessing import StandardScaler\n",
        "from tensorflow import keras"
      ]
    },
    {
      "cell_type": "markdown",
      "id": "38f587b1",
      "metadata": {
        "id": "38f587b1"
      },
      "source": [
        "## Fetch the housing dataset (From California Housing)"
      ]
    },
    {
      "cell_type": "code",
      "execution_count": null,
      "id": "12f88d0b",
      "metadata": {
        "colab": {
          "base_uri": "https://localhost:8080/"
        },
        "id": "12f88d0b",
        "outputId": "21ef57d5-1845-496d-89f0-df731f779ff8"
      },
      "outputs": [
        {
          "output_type": "execute_result",
          "data": {
            "text/plain": [
              "{'data': array([[   8.3252    ,   41.        ,    6.98412698, ...,    2.55555556,\n",
              "           37.88      , -122.23      ],\n",
              "        [   8.3014    ,   21.        ,    6.23813708, ...,    2.10984183,\n",
              "           37.86      , -122.22      ],\n",
              "        [   7.2574    ,   52.        ,    8.28813559, ...,    2.80225989,\n",
              "           37.85      , -122.24      ],\n",
              "        ...,\n",
              "        [   1.7       ,   17.        ,    5.20554273, ...,    2.3256351 ,\n",
              "           39.43      , -121.22      ],\n",
              "        [   1.8672    ,   18.        ,    5.32951289, ...,    2.12320917,\n",
              "           39.43      , -121.32      ],\n",
              "        [   2.3886    ,   16.        ,    5.25471698, ...,    2.61698113,\n",
              "           39.37      , -121.24      ]]),\n",
              " 'target': array([4.526, 3.585, 3.521, ..., 0.923, 0.847, 0.894]),\n",
              " 'frame': None,\n",
              " 'target_names': ['MedHouseVal'],\n",
              " 'feature_names': ['MedInc',\n",
              "  'HouseAge',\n",
              "  'AveRooms',\n",
              "  'AveBedrms',\n",
              "  'Population',\n",
              "  'AveOccup',\n",
              "  'Latitude',\n",
              "  'Longitude'],\n",
              " 'DESCR': '.. _california_housing_dataset:\\n\\nCalifornia Housing dataset\\n--------------------------\\n\\n**Data Set Characteristics:**\\n\\n:Number of Instances: 20640\\n\\n:Number of Attributes: 8 numeric, predictive attributes and the target\\n\\n:Attribute Information:\\n    - MedInc        median income in block group\\n    - HouseAge      median house age in block group\\n    - AveRooms      average number of rooms per household\\n    - AveBedrms     average number of bedrooms per household\\n    - Population    block group population\\n    - AveOccup      average number of household members\\n    - Latitude      block group latitude\\n    - Longitude     block group longitude\\n\\n:Missing Attribute Values: None\\n\\nThis dataset was obtained from the StatLib repository.\\nhttps://www.dcc.fc.up.pt/~ltorgo/Regression/cal_housing.html\\n\\nThe target variable is the median house value for California districts,\\nexpressed in hundreds of thousands of dollars ($100,000).\\n\\nThis dataset was derived from the 1990 U.S. census, using one row per census\\nblock group. A block group is the smallest geographical unit for which the U.S.\\nCensus Bureau publishes sample data (a block group typically has a population\\nof 600 to 3,000 people).\\n\\nA household is a group of people residing within a home. Since the average\\nnumber of rooms and bedrooms in this dataset are provided per household, these\\ncolumns may take surprisingly large values for block groups with few households\\nand many empty houses, such as vacation resorts.\\n\\nIt can be downloaded/loaded using the\\n:func:`sklearn.datasets.fetch_california_housing` function.\\n\\n.. rubric:: References\\n\\n- Pace, R. Kelley and Ronald Barry, Sparse Spatial Autoregressions,\\n  Statistics and Probability Letters, 33 (1997) 291-297\\n'}"
            ]
          },
          "metadata": {},
          "execution_count": 3
        }
      ],
      "source": [
        "housing = fetch_california_housing()# fetch\n",
        "housing # display the dataset"
      ]
    },
    {
      "cell_type": "markdown",
      "id": "e656c85a",
      "metadata": {
        "id": "e656c85a"
      },
      "source": [
        "## Splitting the dataset"
      ]
    },
    {
      "cell_type": "code",
      "execution_count": null,
      "id": "cf9cc095",
      "metadata": {
        "colab": {
          "base_uri": "https://localhost:8080/"
        },
        "id": "cf9cc095",
        "outputId": "bc55eb03-f893-4e90-ab31-90350f46d2b0"
      },
      "outputs": [
        {
          "output_type": "execute_result",
          "data": {
            "text/plain": [
              "(array([[   3.6563    ,   18.        ,   10.44785276, ...,    2.17177914,\n",
              "           39.17      , -120.18      ],\n",
              "        [   8.8115    ,   34.        ,    6.99070385, ...,    2.30810093,\n",
              "           34.14      , -118.46      ],\n",
              "        [   2.1406    ,   45.        ,    3.19879518, ...,    4.34939759,\n",
              "           34.06      , -118.05      ],\n",
              "        ...,\n",
              "        [   3.625     ,   31.        ,    5.44324324, ...,    3.04324324,\n",
              "           38.7       , -121.47      ],\n",
              "        [   3.5       ,   33.        ,    5.17253521, ...,    2.66901408,\n",
              "           36.62      , -121.83      ],\n",
              "        [   3.5       ,   24.        ,    5.92647059, ...,    2.375     ,\n",
              "           34.82      , -118.93      ]]),\n",
              " array([[   1.7       ,   48.        ,    2.86      , ...,    4.44      ,\n",
              "           33.79      , -118.22      ],\n",
              "        [   1.742     ,   24.        ,    6.92896175, ...,    3.47540984,\n",
              "           36.49      , -118.96      ],\n",
              "        [   5.9062    ,   35.        ,    6.53593429, ...,    2.69609856,\n",
              "           37.47      , -122.25      ],\n",
              "        ...,\n",
              "        [   5.9641    ,   44.        ,    4.35714286, ...,    2.22857143,\n",
              "           33.99      , -118.44      ],\n",
              "        [   5.2149    ,   13.        ,    6.26126126, ...,    3.23423423,\n",
              "           40.52      , -122.46      ],\n",
              "        [   4.0337    ,   32.        ,    5.78520286, ...,    5.46778043,\n",
              "           34.3       , -118.46      ]]),\n",
              " array([1.469  , 5.00001, 1.625  , ..., 0.913  , 1.624  , 1.139  ]),\n",
              " array([1.042, 1.188, 3.832, ..., 2.75 , 1.465, 1.585]))"
            ]
          },
          "metadata": {},
          "execution_count": 4
        }
      ],
      "source": [
        "X_train_full, X_test, y_train_full, y_test = train_test_split(housing.data, housing.target)\n",
        "X_train, X_valid, y_train, y_valid = train_test_split(X_train_full, y_train_full)\n",
        "X_train, X_valid, y_train, y_valid"
      ]
    },
    {
      "cell_type": "markdown",
      "id": "93b7b96b",
      "metadata": {
        "id": "93b7b96b"
      },
      "source": [
        "## Data Preprocessing"
      ]
    },
    {
      "cell_type": "code",
      "execution_count": null,
      "id": "9997c570",
      "metadata": {
        "colab": {
          "base_uri": "https://localhost:8080/"
        },
        "id": "9997c570",
        "outputId": "2c129cd2-0c7e-4b92-be29-5017362658c9"
      },
      "outputs": [
        {
          "output_type": "execute_result",
          "data": {
            "text/plain": [
              "(array([[-6.30207192e-01,  4.24210047e-01, -8.72614986e-02, ...,\n",
              "         -6.83614746e-02, -1.37231479e-01,  2.75391703e-01],\n",
              "        [ 2.90193293e-01, -1.41225454e+00,  8.67555872e-01, ...,\n",
              "          7.45765197e-04,  9.80453408e-01, -7.59379152e-01],\n",
              "        [-1.22742172e+00, -2.94406532e-01,  7.89331988e-02, ...,\n",
              "          1.74954585e-01,  4.98773311e-01, -1.12647368e-01],\n",
              "        ...,\n",
              "        [-9.18621994e-01,  1.86144321e+00, -6.72654211e-01, ...,\n",
              "         -5.61964338e-02,  7.93393176e-01, -1.14244336e+00],\n",
              "        [ 8.89902848e-01, -9.33176824e-01,  6.56895653e-01, ...,\n",
              "          4.22374141e-02, -1.39053503e+00,  1.28031340e+00],\n",
              "        [-6.72038752e-01, -8.53330538e-01,  7.90167120e-02, ...,\n",
              "          9.53202686e-02,  6.15685956e-01, -1.82295406e-01]]),\n",
              " array([[ 6.27871657e-01, -6.93637965e-01,  1.75164154e-01, ...,\n",
              "         -3.04696473e-02,  1.26104376e+00, -1.63992935e+00],\n",
              "        [-7.95091487e-01,  5.83902620e-01, -2.42704997e-01, ...,\n",
              "          1.68585288e-01,  8.58864257e-01, -1.28173944e+00],\n",
              "        [ 1.54746108e-02, -6.13791678e-01, -8.37012311e-01, ...,\n",
              "         -1.18890709e-01,  8.02746188e-01, -1.21209140e+00],\n",
              "        ...,\n",
              "        [ 8.15132660e-02, -1.01302311e+00,  1.85950009e-01, ...,\n",
              "         -1.36909119e-03,  1.56969314e+00, -8.53901490e-01],\n",
              "        [-4.57997065e-01, -1.34713959e-01, -2.07980081e-01, ...,\n",
              "         -8.45348262e-02, -6.70353140e-01,  2.65441983e-01],\n",
              "        [ 8.54946962e-02,  1.04824901e-01, -2.42731174e-01, ...,\n",
              "         -1.61284451e-02, -1.36247600e+00,  1.29026312e+00]]),\n",
              " array([[-6.88282987e-01, -5.48676722e-02,  2.18340928e-02, ...,\n",
              "          1.80049704e-01, -7.68559762e-01,  9.42022927e-01],\n",
              "        [ 7.29955527e-01,  2.64517474e-01,  5.42623583e-01, ...,\n",
              "         -2.85080676e-02,  9.61747385e-01, -1.24194056e+00],\n",
              "        [-1.57911472e+00,  1.86144321e+00, -1.44858687e+00, ...,\n",
              "         -1.07881996e-01,  1.00851244e+00, -1.40611094e+00],\n",
              "        ...,\n",
              "        [-2.60518129e-01,  5.83902620e-01,  8.57632279e-02, ...,\n",
              "         -2.08765189e-04,  1.22363171e+00, -1.23199084e+00],\n",
              "        [-5.30671438e-01, -9.33176824e-01,  2.45534784e-02, ...,\n",
              "         -2.44665037e-02,  2.28519853e+00, -1.33646290e+00],\n",
              "        [-1.39570350e+00,  9.83134053e-01, -6.19900186e-01, ...,\n",
              "          7.34550746e-02, -7.91942291e-01,  6.38556474e-01]]))"
            ]
          },
          "metadata": {},
          "execution_count": 4
        }
      ],
      "source": [
        "scaler = StandardScaler()\n",
        "X_train = scaler.fit_transform(X_train)\n",
        "X_valid = scaler.transform(X_valid)\n",
        "X_test = scaler.transform(X_test)\n",
        "X_train, X_valid,X_test"
      ]
    },
    {
      "cell_type": "markdown",
      "id": "b8d7d4e4",
      "metadata": {
        "id": "b8d7d4e4"
      },
      "source": [
        "## Training the data"
      ]
    },
    {
      "cell_type": "code",
      "execution_count": null,
      "id": "d30368c2",
      "metadata": {
        "colab": {
          "base_uri": "https://localhost:8080/"
        },
        "id": "d30368c2",
        "outputId": "0f61b64b-f155-4277-c551-91640e5e4b30"
      },
      "outputs": [
        {
          "output_type": "stream",
          "name": "stderr",
          "text": [
            "/usr/local/lib/python3.10/dist-packages/keras/src/layers/core/dense.py:87: UserWarning: Do not pass an `input_shape`/`input_dim` argument to a layer. When using Sequential models, prefer using an `Input(shape)` object as the first layer in the model instead.\n",
            "  super().__init__(activity_regularizer=activity_regularizer, **kwargs)\n"
          ]
        },
        {
          "output_type": "stream",
          "name": "stdout",
          "text": [
            "Epoch 1/20\n",
            "\u001b[1m363/363\u001b[0m \u001b[32m━━━━━━━━━━━━━━━━━━━━\u001b[0m\u001b[37m\u001b[0m \u001b[1m2s\u001b[0m 3ms/step - loss: 1.6611 - val_loss: 0.5860\n",
            "Epoch 2/20\n",
            "\u001b[1m363/363\u001b[0m \u001b[32m━━━━━━━━━━━━━━━━━━━━\u001b[0m\u001b[37m\u001b[0m \u001b[1m1s\u001b[0m 2ms/step - loss: 0.5249 - val_loss: 0.4252\n",
            "Epoch 3/20\n",
            "\u001b[1m363/363\u001b[0m \u001b[32m━━━━━━━━━━━━━━━━━━━━\u001b[0m\u001b[37m\u001b[0m \u001b[1m1s\u001b[0m 2ms/step - loss: 0.4230 - val_loss: 0.3992\n",
            "Epoch 4/20\n",
            "\u001b[1m363/363\u001b[0m \u001b[32m━━━━━━━━━━━━━━━━━━━━\u001b[0m\u001b[37m\u001b[0m \u001b[1m1s\u001b[0m 2ms/step - loss: 0.4169 - val_loss: 0.4072\n",
            "Epoch 5/20\n",
            "\u001b[1m363/363\u001b[0m \u001b[32m━━━━━━━━━━━━━━━━━━━━\u001b[0m\u001b[37m\u001b[0m \u001b[1m1s\u001b[0m 2ms/step - loss: 0.4081 - val_loss: 0.3853\n",
            "Epoch 6/20\n",
            "\u001b[1m363/363\u001b[0m \u001b[32m━━━━━━━━━━━━━━━━━━━━\u001b[0m\u001b[37m\u001b[0m \u001b[1m1s\u001b[0m 3ms/step - loss: 0.3887 - val_loss: 0.3810\n",
            "Epoch 7/20\n",
            "\u001b[1m363/363\u001b[0m \u001b[32m━━━━━━━━━━━━━━━━━━━━\u001b[0m\u001b[37m\u001b[0m \u001b[1m3s\u001b[0m 7ms/step - loss: 0.3802 - val_loss: 0.3776\n",
            "Epoch 8/20\n",
            "\u001b[1m363/363\u001b[0m \u001b[32m━━━━━━━━━━━━━━━━━━━━\u001b[0m\u001b[37m\u001b[0m \u001b[1m2s\u001b[0m 6ms/step - loss: 0.3700 - val_loss: 0.3770\n",
            "Epoch 9/20\n",
            "\u001b[1m363/363\u001b[0m \u001b[32m━━━━━━━━━━━━━━━━━━━━\u001b[0m\u001b[37m\u001b[0m \u001b[1m1s\u001b[0m 3ms/step - loss: 0.3850 - val_loss: 0.3739\n",
            "Epoch 10/20\n",
            "\u001b[1m363/363\u001b[0m \u001b[32m━━━━━━━━━━━━━━━━━━━━\u001b[0m\u001b[37m\u001b[0m \u001b[1m2s\u001b[0m 4ms/step - loss: 0.3678 - val_loss: 0.3749\n",
            "Epoch 11/20\n",
            "\u001b[1m363/363\u001b[0m \u001b[32m━━━━━━━━━━━━━━━━━━━━\u001b[0m\u001b[37m\u001b[0m \u001b[1m2s\u001b[0m 5ms/step - loss: 0.3690 - val_loss: 0.3712\n",
            "Epoch 12/20\n",
            "\u001b[1m363/363\u001b[0m \u001b[32m━━━━━━━━━━━━━━━━━━━━\u001b[0m\u001b[37m\u001b[0m \u001b[1m2s\u001b[0m 5ms/step - loss: 0.3592 - val_loss: 0.3827\n",
            "Epoch 13/20\n",
            "\u001b[1m363/363\u001b[0m \u001b[32m━━━━━━━━━━━━━━━━━━━━\u001b[0m\u001b[37m\u001b[0m \u001b[1m3s\u001b[0m 5ms/step - loss: 0.3550 - val_loss: 0.3745\n",
            "Epoch 14/20\n",
            "\u001b[1m363/363\u001b[0m \u001b[32m━━━━━━━━━━━━━━━━━━━━\u001b[0m\u001b[37m\u001b[0m \u001b[1m2s\u001b[0m 6ms/step - loss: 0.3720 - val_loss: 0.3641\n",
            "Epoch 15/20\n",
            "\u001b[1m363/363\u001b[0m \u001b[32m━━━━━━━━━━━━━━━━━━━━\u001b[0m\u001b[37m\u001b[0m \u001b[1m2s\u001b[0m 5ms/step - loss: 0.3602 - val_loss: 0.3777\n",
            "Epoch 16/20\n",
            "\u001b[1m363/363\u001b[0m \u001b[32m━━━━━━━━━━━━━━━━━━━━\u001b[0m\u001b[37m\u001b[0m \u001b[1m1s\u001b[0m 2ms/step - loss: 0.3819 - val_loss: 0.3722\n",
            "Epoch 17/20\n",
            "\u001b[1m363/363\u001b[0m \u001b[32m━━━━━━━━━━━━━━━━━━━━\u001b[0m\u001b[37m\u001b[0m \u001b[1m1s\u001b[0m 2ms/step - loss: 0.3676 - val_loss: 0.3614\n",
            "Epoch 18/20\n",
            "\u001b[1m363/363\u001b[0m \u001b[32m━━━━━━━━━━━━━━━━━━━━\u001b[0m\u001b[37m\u001b[0m \u001b[1m1s\u001b[0m 2ms/step - loss: 0.3655 - val_loss: 0.3705\n",
            "Epoch 19/20\n",
            "\u001b[1m363/363\u001b[0m \u001b[32m━━━━━━━━━━━━━━━━━━━━\u001b[0m\u001b[37m\u001b[0m \u001b[1m1s\u001b[0m 2ms/step - loss: 0.3754 - val_loss: 0.3660\n",
            "Epoch 20/20\n",
            "\u001b[1m363/363\u001b[0m \u001b[32m━━━━━━━━━━━━━━━━━━━━\u001b[0m\u001b[37m\u001b[0m \u001b[1m1s\u001b[0m 2ms/step - loss: 0.3481 - val_loss: 0.3583\n"
          ]
        }
      ],
      "source": [
        "\n",
        "model = keras.models.Sequential([keras.layers.Dense(30, activation=\"relu\", input_shape=X_train.shape[1:]),keras.layers.Dense(1)])\n",
        "model.compile(loss=\"mean_squared_error\", optimizer=\"sgd\")\n",
        "history = model.fit(X_train, y_train, epochs=20,validation_data=(X_valid, y_valid))\n"
      ]
    },
    {
      "cell_type": "markdown",
      "id": "dd24056a",
      "metadata": {
        "id": "dd24056a"
      },
      "source": [
        "## Mean Square Error"
      ]
    },
    {
      "cell_type": "code",
      "execution_count": null,
      "id": "24ef95b1",
      "metadata": {
        "id": "24ef95b1",
        "outputId": "906d8c31-ae04-4dca-c52e-32c9d5871327"
      },
      "outputs": [
        {
          "name": "stdout",
          "output_type": "stream",
          "text": [
            "\u001b[1m162/162\u001b[0m \u001b[32m━━━━━━━━━━━━━━━━━━━━\u001b[0m\u001b[37m\u001b[0m \u001b[1m0s\u001b[0m 334us/step - loss: 0.3619\n"
          ]
        },
        {
          "data": {
            "text/plain": [
              "0.36763420701026917"
            ]
          },
          "execution_count": 27,
          "metadata": {},
          "output_type": "execute_result"
        }
      ],
      "source": [
        "mse_test = model.evaluate(X_test, y_test)\n",
        "mse_test"
      ]
    },
    {
      "cell_type": "markdown",
      "id": "ec11ab60",
      "metadata": {
        "id": "ec11ab60"
      },
      "source": [
        "## Predicting for newer instances"
      ]
    },
    {
      "cell_type": "code",
      "execution_count": null,
      "id": "bf6dd955",
      "metadata": {
        "colab": {
          "base_uri": "https://localhost:8080/"
        },
        "id": "bf6dd955",
        "outputId": "b4e89a90-ab7e-4907-952a-eea229bc6cdf"
      },
      "outputs": [
        {
          "output_type": "stream",
          "name": "stdout",
          "text": [
            "\u001b[1m1/1\u001b[0m \u001b[32m━━━━━━━━━━━━━━━━━━━━\u001b[0m\u001b[37m\u001b[0m \u001b[1m0s\u001b[0m 50ms/step\n"
          ]
        },
        {
          "output_type": "execute_result",
          "data": {
            "text/plain": [
              "array([[1.1302006],\n",
              "       [2.8379064],\n",
              "       [2.5392652]], dtype=float32)"
            ]
          },
          "metadata": {},
          "execution_count": 6
        }
      ],
      "source": [
        "X_new = X_test[:3] # pretend these are new instances\n",
        "y_pred = model.predict(X_new)\n",
        "y_pred"
      ]
    },
    {
      "cell_type": "code",
      "source": [
        "# input = keras.layers.Input(shape=X_train.shape[1:]) #create an Input object.\n",
        "# # We create a Dense layer with 30 neurons, using the ReLU activation func‐tion.\n",
        "# hidden1 = keras.layers.Dense(30, activation=\"relu\")(input)\n",
        "# hidden2 = keras.layers.Dense(30, activation=\"relu\")(hidden1)\n",
        "# # We create a concatenate layer, and once again we immediately use it like a function, to concatenate the input and the output of the second hidden layer.\n",
        "# concat = keras.layers.Concatenate()([input, hidden2])\n",
        "# output = keras.layers.Dense(1)(concat)\n",
        "# # create a Keras Model, specifying which inputs and outputs to use.\n",
        "# model = keras.Model(inputs=[input], outputs=[output])\n",
        "# input,hidden1,hidden2,concat,output,model"
      ],
      "metadata": {
        "id": "xZOjbQ1TrE9p"
      },
      "id": "xZOjbQ1TrE9p",
      "execution_count": null,
      "outputs": []
    },
    {
      "cell_type": "code",
      "source": [
        "# input_A = keras.layers.Input(shape=[5], name=\"wide_input\")\n",
        "# input_B = keras.layers.Input(shape=[6], name=\"deep_input\")\n",
        "# hidden1 = keras.layers.Dense(30, activation=\"relu\")(input_B)\n",
        "# hidden2 = keras.layers.Dense(30, activation=\"relu\")(hidden1)\n",
        "# concat = keras.layers.concatenate([input_A, hidden2])\n",
        "# output = keras.layers.Dense(1, name=\"output\")(concat)\n",
        "# model = keras.Model(inputs=[input_A, input_B], outputs=[output])\n",
        "# input_A,input_B,hidden1,hidden2,concat,output,model"
      ],
      "metadata": {
        "id": "oi_jvqoNrwLH"
      },
      "id": "oi_jvqoNrwLH",
      "execution_count": null,
      "outputs": []
    },
    {
      "cell_type": "code",
      "source": [
        "# model.compile(loss=\"mean_squared_error\", optimizer='sgd')\n",
        "# X_train_A, X_train_B = X_train[:, :5], X_train[:, 2:]\n",
        "# X_valid_A, X_valid_B = X_valid[:, :5], X_valid[:, 2:]\n",
        "# X_test_A, X_test_B = X_test[:, :5], X_test[:, 2:]\n",
        "# X_new_A, X_new_B = X_test_A[:3], X_test_B[:3]\n",
        "# history = model.fit((X_train_A, X_train_B), y_train, epochs=20, validation_data=((X_valid_A, X_valid_B), y_valid))\n",
        "# mse_test = model.evaluate((X_test_A, X_test_B), y_test)\n",
        "# y_pred = model.predict((X_new_A, X_new_B))\n",
        "# X_train_A, X_train_B,X_valid_A, X_valid_B,X_test_A, X_test_B,X_new_A, X_new_B,history,mse_test,y_pred"
      ],
      "metadata": {
        "id": "Qe7ObY-YsD0x"
      },
      "id": "Qe7ObY-YsD0x",
      "execution_count": null,
      "outputs": []
    }
  ],
  "metadata": {
    "kernelspec": {
      "display_name": "Python 3 (ipykernel)",
      "language": "python",
      "name": "python3"
    },
    "language_info": {
      "codemirror_mode": {
        "name": "ipython",
        "version": 3
      },
      "file_extension": ".py",
      "mimetype": "text/x-python",
      "name": "python",
      "nbconvert_exporter": "python",
      "pygments_lexer": "ipython3",
      "version": "3.11.3"
    },
    "colab": {
      "provenance": [],
      "include_colab_link": true
    }
  },
  "nbformat": 4,
  "nbformat_minor": 5
}